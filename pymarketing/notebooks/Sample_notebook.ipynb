{
 "metadata": {
  "name": "",
  "signature": "sha256:89ce8eb3b74a42905e578d852ccc48d0f2c35eeeae2d9fe3193187bff81b6388"
 },
 "nbformat": 3,
 "nbformat_minor": 0,
 "worksheets": [
  {
   "cells": [
    {
     "cell_type": "markdown",
     "metadata": {},
     "source": [
      "# Welcome\n",
      "\n",
      "First, a quick intro to the IPython notebook for new users of the **Python for Marketing** package.\n",
      "\n",
      "The IPython Notebook was the lightbulb moment for me and Python. It made working with code much more approachable. It won't make you an instant expert, but it's helpful and forgiving for newcomers to coding.\n",
      "\n",
      "## Some of the great things about the IPython Notebook?\n",
      "\n",
      "### Inline execution of code\n",
      "\n",
      "* Outside of the IPython Notebook, the most common way you'll see people coding is into a text editor (like [Sublime Text](http://www.sublimetext.com/), the one I personally recommend). \n",
      "* Text editors are great because they give hints to when your code is wrong (known as 'syntax highlighting'), plus they have lots of plugins to make things faster. \n",
      "* However, you then need to save that file and run it somewhere.\n",
      "* The IPython Notebook solves that problem by providing the helpful sytaxt highlighting but with the ability to run code in the same place as you write it, to get a feel for whether you're on the right track.\n",
      "* Speaking from experience, this proximity to the result means that you spend less time wondering what went wrong.\n",
      "\n",
      "### Save as multiple formats - as a notebook file, as a Python script or even as HTML\n",
      "\n",
      "* Once you've got something working, save it as a .py file and you can run this as a standalone script. Alternatively, save the output as HTML and share with other people outside of the Notebook environment. You can even upload them to a service like the [Notebook Viewer](http://nbviewer.ipython.org/)\n",
      "\n",
      "### Graphs, charts and graphics inline!\n",
      "\n",
      "* One of my personal favourites. In Marketing we're often visualising data and Python has some great ways to create charts and visualisations.\n",
      "* Using a Notebook, you can import the code, manipulate it into the right format and then visualise it all within the same document.\n",
      "\n",
      "### Autosaving\n",
      "\n",
      "* As a beginner, you'll mess up a lot. That's OK. When you create a new Notebook, you'll be creating a file on your computer, compared to some throwaway code in the terminal. It's really helpful to trace your steps backwards.\n",
      "* There are also **Checkpoints**, which is like a built-in revision control system that lets you step back in time.\n",
      "\n",
      "You get the convenience of working within a text editor-style environment, but with the conveniece of inline execution of code."
     ]
    },
    {
     "cell_type": "heading",
     "level": 2,
     "metadata": {},
     "source": [
      "A few quick simple examples"
     ]
    },
    {
     "cell_type": "code",
     "collapsed": false,
     "input": [
      "# Simple maths\n",
      "print 2 + 2 "
     ],
     "language": "python",
     "metadata": {},
     "outputs": [
      {
       "output_type": "stream",
       "stream": "stdout",
       "text": [
        "4\n"
       ]
      }
     ],
     "prompt_number": 1
    },
    {
     "cell_type": "code",
     "collapsed": false,
     "input": [
      "# Assigning variables\n",
      "my_variable = 2 + 2\n",
      "print my_variable"
     ],
     "language": "python",
     "metadata": {},
     "outputs": [
      {
       "output_type": "stream",
       "stream": "stdout",
       "text": [
        "4\n"
       ]
      }
     ],
     "prompt_number": 3
    },
    {
     "cell_type": "code",
     "collapsed": false,
     "input": [
      "# It's also forgiving. Most Python objects have a default output when you call them.\n",
      "# For simple variables like integers, strings, etc - you can just type the name.\n",
      "my_variable"
     ],
     "language": "python",
     "metadata": {},
     "outputs": [
      {
       "metadata": {},
       "output_type": "pyout",
       "prompt_number": 4,
       "text": [
        "4"
       ]
      }
     ],
     "prompt_number": 4
    },
    {
     "cell_type": "code",
     "collapsed": false,
     "input": [
      "# Python has a great object type called Lists. It's a container for a list of miscellaneous items.\n",
      "my_list = [1,2,3,4,\"A\",\"B\",\"C\",]\n",
      "my_list"
     ],
     "language": "python",
     "metadata": {},
     "outputs": [
      {
       "metadata": {},
       "output_type": "pyout",
       "prompt_number": 6,
       "text": [
        "[1, 2, 3, 4, 'A', 'B', 'C']"
       ]
      }
     ],
     "prompt_number": 6
    },
    {
     "cell_type": "code",
     "collapsed": false,
     "input": [
      "# You can add items to a list, using a method of that list. Use the [TAB] key to auto-complete.\n",
      "# This example, '.append', will append a new item to the end of an existing list.\n",
      "my_list.append(my_variable)"
     ],
     "language": "python",
     "metadata": {},
     "outputs": [],
     "prompt_number": 9
    },
    {
     "cell_type": "code",
     "collapsed": false,
     "input": [
      "my_list"
     ],
     "language": "python",
     "metadata": {},
     "outputs": [
      {
       "metadata": {},
       "output_type": "pyout",
       "prompt_number": 10,
       "text": [
        "[1, 2, 3, 4, 'A', 'B', 'C', 4]"
       ]
      }
     ],
     "prompt_number": 10
    },
    {
     "cell_type": "code",
     "collapsed": false,
     "input": [
      "# Loops will work just as easily here. You'll get used to working with loops.\n",
      "# Here, we're saying \"step through each item in my list, using the name 'single_item' to hold the current one.\"\n",
      "for single_item in my_list:\n",
      "    print single_item"
     ],
     "language": "python",
     "metadata": {},
     "outputs": [
      {
       "output_type": "stream",
       "stream": "stdout",
       "text": [
        "1\n",
        "2\n",
        "3\n",
        "4\n",
        "A\n",
        "B\n",
        "C\n",
        "4\n"
       ]
      }
     ],
     "prompt_number": 11
    },
    {
     "cell_type": "heading",
     "level": 1,
     "metadata": {},
     "source": [
      "Plus some more complicated examples"
     ]
    },
    {
     "cell_type": "code",
     "collapsed": false,
     "input": [
      "# Taken from the Seaborn site (Seaborn is a great library for visualising datasets)\n",
      "import numpy as np\n",
      "import seaborn as sns\n",
      "import matplotlib.pyplot as plt\n",
      "\n",
      "sns.set(style=\"dark\")\n",
      "\n",
      "f, axes = plt.subplots(3, 3, figsize=(9, 9), sharex=True, sharey=True)\n",
      "\n",
      "rs = np.random.RandomState(50)\n",
      "\n",
      "for ax, s in zip(axes.flat, np.linspace(0, 3, 10)):\n",
      "    x, y = rs.randn(2, 50)\n",
      "    cmap = sns.cubehelix_palette(start=s, light=1, as_cmap=True)\n",
      "    sns.kdeplot(x, y, cmap=cmap, shade=True, cut=5, ax=ax)\n",
      "    ax.set(xlim=(-3, 3), ylim=(-3, 3))\n",
      "f.tight_layout() "
     ],
     "language": "python",
     "metadata": {},
     "outputs": [
      {
       "ename": "ImportError",
       "evalue": "No module named numpy",
       "output_type": "pyerr",
       "traceback": [
        "\u001b[0;31m---------------------------------------------------------------------------\u001b[0m\n\u001b[0;31mImportError\u001b[0m                               Traceback (most recent call last)",
        "\u001b[0;32m<ipython-input-12-ca20878e6c7c>\u001b[0m in \u001b[0;36m<module>\u001b[0;34m()\u001b[0m\n\u001b[1;32m      1\u001b[0m \u001b[0;31m# Taken from the Seaborn site (Seaborn is a great library for visualising datasets)\u001b[0m\u001b[0;34m\u001b[0m\u001b[0;34m\u001b[0m\u001b[0m\n\u001b[0;32m----> 2\u001b[0;31m \u001b[0;32mimport\u001b[0m \u001b[0mnumpy\u001b[0m \u001b[0;32mas\u001b[0m \u001b[0mnp\u001b[0m\u001b[0;34m\u001b[0m\u001b[0m\n\u001b[0m\u001b[1;32m      3\u001b[0m \u001b[0;32mimport\u001b[0m \u001b[0mseaborn\u001b[0m \u001b[0;32mas\u001b[0m \u001b[0msns\u001b[0m\u001b[0;34m\u001b[0m\u001b[0m\n\u001b[1;32m      4\u001b[0m \u001b[0;32mimport\u001b[0m \u001b[0mmatplotlib\u001b[0m\u001b[0;34m.\u001b[0m\u001b[0mpyplot\u001b[0m \u001b[0;32mas\u001b[0m \u001b[0mplt\u001b[0m\u001b[0;34m\u001b[0m\u001b[0m\n\u001b[1;32m      5\u001b[0m \u001b[0;34m\u001b[0m\u001b[0m\n",
        "\u001b[0;31mImportError\u001b[0m: No module named numpy"
       ]
      }
     ],
     "prompt_number": 12
    },
    {
     "cell_type": "code",
     "collapsed": false,
     "input": [],
     "language": "python",
     "metadata": {},
     "outputs": []
    }
   ],
   "metadata": {}
  }
 ]
}